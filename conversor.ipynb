{
 "cells": [
  {
   "cell_type": "code",
   "execution_count": null,
   "id": "a19d14de-b2c8-4a61-9f1a-db79c21dff96",
   "metadata": {},
   "outputs": [],
   "source": [
    "import os\n",
    "\n",
    "# Directorio donde se encuentran las imágenes\n",
    "directorio = r\"C:\\Users\\CASA\\Documents\\ABET\\programacion\\scroll.github.io\\assets3\"\n",
    "\n",
    "# Lista todos los archivos en el directorio\n",
    "archivos = os.listdir(directorio)\n",
    "\n",
    "# Filtro para asegurarse de que solo se renombren los archivos con el formato correcto\n",
    "archivos_a_renombrar = [archivo for archivo in archivos if archivo.startswith(\"scene\") and archivo.endswith(\".png\")]\n",
    "\n",
    "# Ordena la lista de archivos para garantizar un orden adecuado\n",
    "archivos_a_renombrar.sort()\n",
    "\n",
    "# Inicializa el contador\n",
    "contador = 0\n",
    "\n",
    "# Itera sobre los archivos y renómbralos\n",
    "for archivo in archivos_a_renombrar:\n",
    "    nuevo_nombre = f\"scene{contador:05d}.png\"\n",
    "    ruta_original = os.path.join(directorio, archivo)\n",
    "    ruta_nuevo = os.path.join(directorio, nuevo_nombre)\n",
    "    os.rename(ruta_original, ruta_nuevo)\n",
    "    contador += 1\n",
    "    print(f\"Renombrando {archivo} a {nuevo_nombre}\")\n",
    "\n",
    "print(\"Proceso completado.\")\n"
   ]
  }
 ],
 "metadata": {
  "kernelspec": {
   "display_name": "Python 3 (ipykernel)",
   "language": "python",
   "name": "python3"
  },
  "language_info": {
   "codemirror_mode": {
    "name": "ipython",
    "version": 3
   },
   "file_extension": ".py",
   "mimetype": "text/x-python",
   "name": "python",
   "nbconvert_exporter": "python",
   "pygments_lexer": "ipython3",
   "version": "3.11.5"
  }
 },
 "nbformat": 4,
 "nbformat_minor": 5
}
